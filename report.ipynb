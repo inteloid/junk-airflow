{
 "cells": [
  {
   "cell_type": "code",
   "execution_count": null,
   "id": "c573812f-3f45-4771-8c34-47320c52adab",
   "metadata": {
    "tags": []
   },
   "outputs": [],
   "source": [
    "SELECT count(*) FROM dns_month WHERE date = date_add(current_date(), -2)"
   ]
  },
  {
   "cell_type": "code",
   "execution_count": null,
   "id": "44f5978b-0463-45ed-9d2c-f51c529fd2e3",
   "metadata": {
    "tags": []
   },
   "outputs": [],
   "source": [
    "SELECT \"${d}\",\n",
    "'asd'"
   ]
  },
  {
   "cell_type": "code",
   "execution_count": null,
   "id": "3cd54530-70cb-43d4-8536-f14830c399e7",
   "metadata": {
    "tags": []
   },
   "outputs": [],
   "source": [
    "CREATE OR REPLACE TEMPORARY VIEW dns_month\n",
    "USING org.apache.spark.sql.parquet\n",
    "OPTIONS (\n",
    "  path \"s3a://data/dns/\"\n",
    ")"
   ]
  },
  {
   "cell_type": "code",
   "execution_count": null,
   "id": "3534c2e5-999d-4fef-ae94-675820e394e5",
   "metadata": {
    "tags": []
   },
   "outputs": [],
   "source": [
    "CREATE TABLE IF NOT EXISTS dns_history\n",
    "USING JDBC\n",
    "OPTIONS (\n",
    "  url \"jdbc:postgresql://10.1.51.40/metabaseappdb\",\n",
    "  dbtable \"dns_history\",\n",
    "  user \"postgres\",\n",
    "  password \"GR8cNwuKZyxMs8zHCePU\"\n",
    ")"
   ]
  },
  {
   "cell_type": "code",
   "execution_count": null,
   "id": "7c693c1e-e99b-4418-a413-dcb9aedc9ce1",
   "metadata": {
    "tags": []
   },
   "outputs": [],
   "source": [
    "CREATE TABLE IF NOT EXISTS dns_history2\n",
    "USING JDBC\n",
    "OPTIONS (\n",
    "  url \"jdbc:postgresql://10.1.51.40/metabaseappdb\",\n",
    "  dbtable \"dns_history1\",\n",
    "  createTableOptions \"CREATE TABLE IF NOT EXISTS dns_history1 (dmn VARCHAR(500), cnt INT)\",\n",
    "  user \"postgres\",\n",
    "  password \"GR8cNwuKZyxMs8zHCePU\"\n",
    ")"
   ]
  },
  {
   "cell_type": "code",
   "execution_count": null,
   "id": "5cd4860f-3824-49ab-a49f-d36ae3b6c32d",
   "metadata": {
    "tags": []
   },
   "outputs": [],
   "source": [
    "INSERT INTO dns_history (\n",
    "    SELECT \n",
    "        domain AS dmn, \n",
    "        count(*) AS cnt \n",
    "    FROM dns_month \n",
    "    GROUP BY domain \n",
    "    ORDER BY count(*) DESC\n",
    "    LIMIT 100\n",
    ")"
   ]
  },
  {
   "cell_type": "code",
   "execution_count": null,
   "id": "a379abc9-1fa5-4559-8038-bbebba0bcd34",
   "metadata": {
    "tags": []
   },
   "outputs": [],
   "source": [
    "INSERT INTO tablename VALUES(\"asd\", \"2\")"
   ]
  },
  {
   "cell_type": "code",
   "execution_count": null,
   "id": "353275c5-ba3c-4499-b1f8-7ac94b6c9243",
   "metadata": {
    "tags": []
   },
   "outputs": [],
   "source": [
    "DROP TABLE IF EXISTS dns_history1;"
   ]
  },
  {
   "cell_type": "code",
   "execution_count": null,
   "id": "627e6d89-8f45-4dee-85cc-520c1a0cbb8d",
   "metadata": {
    "tags": []
   },
   "outputs": [],
   "source": [
    "CREATE TABLE core_user1 LIKE dns_month\n",
    "USING JDBC\n",
    "OPTIONS (\n",
    "  url \"jdbc:postgresql://10.1.51.40/metabaseappdb\",\n",
    "  dbtable \"dns_month\",\n",
    "  user \"postgres\",\n",
    "  password \"GR8cNwuKZyxMs8zHCePU\"\n",
    ")"
   ]
  },
  {
   "cell_type": "code",
   "execution_count": null,
   "id": "77f8467e-f2f5-4b83-82cb-ef32104c953f",
   "metadata": {
    "tags": []
   },
   "outputs": [],
   "source": [
    "SELECT * FROM core_user1"
   ]
  },
  {
   "cell_type": "code",
   "execution_count": null,
   "id": "42a84a4e-737d-4bfa-b801-86ef366539f1",
   "metadata": {
    "tags": []
   },
   "outputs": [],
   "source": [
    "CREATE EXTERNAL TABLE tbl (hive_bigints INT)\n",
    "STORED AS PARQUET LOCATION 's3a://data/dns1/'"
   ]
  },
  {
   "cell_type": "code",
   "execution_count": null,
   "id": "35f1c75d-b80c-4129-9653-062b971a55c3",
   "metadata": {
    "tags": []
   },
   "outputs": [],
   "source": [
    "INSERT OVERWRITE DIRECTORY 's3a://data/temp/destination'\n",
    "    USING parquet\n",
    "    SELECT * FROM dns_month;"
   ]
  },
  {
   "cell_type": "code",
   "execution_count": null,
   "id": "c9d48245-be9a-4966-bc06-194784e9138f",
   "metadata": {
    "tags": []
   },
   "outputs": [],
   "source": [
    "INSERT OVERWRITE DIRECTORY\n",
    "    USING JDBC\n",
    "    OPTIONS (\n",
    "      url \"jdbc:postgresql://10.1.51.40/metabaseappdb\",\n",
    "      dbtable \"dns_month\",\n",
    "      user \"postgres\",\n",
    "      password \"GR8cNwuKZyxMs8zHCePU\"\n",
    "    )\n",
    "    SELECT \n",
    "        domain AS dmn, \n",
    "        count(*) AS cnt \n",
    "    FROM dns_month \n",
    "    GROUP BY domain \n",
    "    ORDER BY count(*) DESC\n",
    "    LIMIT 100;"
   ]
  },
  {
   "cell_type": "code",
   "execution_count": null,
   "id": "2997c82e-39d5-415f-a205-75ae58d9e42f",
   "metadata": {
    "tags": []
   },
   "outputs": [],
   "source": [
    "CREATE TABLE IF NOT EXISTS dest\n",
    "USING parquet\n",
    "LOCATION 's3a://data/temp/destination'"
   ]
  },
  {
   "cell_type": "code",
   "execution_count": null,
   "id": "fb9a2ee5-16bf-4ef7-9687-fa2319041a1f",
   "metadata": {
    "tags": []
   },
   "outputs": [],
   "source": [
    "SELECT count(*) FROM dest"
   ]
  },
  {
   "cell_type": "code",
   "execution_count": null,
   "id": "43e0599f-d172-4714-bb2f-0aef6f6d691b",
   "metadata": {
    "tags": []
   },
   "outputs": [],
   "source": [
    "INSERT INTO dest VALUES (\"asd\", \"asd\", 3)"
   ]
  },
  {
   "cell_type": "code",
   "execution_count": null,
   "id": "ac4c431f-c856-474f-b786-eacf6e394297",
   "metadata": {},
   "outputs": [],
   "source": [
    "DROP TABLE IF EXISTS dest"
   ]
  },
  {
   "cell_type": "code",
   "execution_count": null,
   "id": "29625fb4-7269-446f-86f9-0ba88410d79f",
   "metadata": {
    "tags": []
   },
   "outputs": [],
   "source": [
    "INSERT INTO dns_history VALUES (\"asd\", 3)"
   ]
  },
  {
   "cell_type": "code",
   "execution_count": null,
   "id": "86e4212c-0d3f-495c-81e5-b78c1ec30d1e",
   "metadata": {
    "tags": []
   },
   "outputs": [],
   "source": [
    "SELECT * FROM dns_month"
   ]
  },
  {
   "cell_type": "code",
   "execution_count": 1,
   "id": "09516f55-f5d6-4671-9830-4c1f74a03c91",
   "metadata": {
    "execution": {
     "iopub.execute_input": "2023-02-02T19:10:29.324688Z",
     "iopub.status.busy": "2023-02-02T19:10:29.322575Z",
     "iopub.status.idle": "2023-02-02T19:10:29.365131Z",
     "shell.execute_reply": "2023-02-02T19:10:29.362241Z",
     "shell.execute_reply.started": "2023-02-02T19:10:29.324553Z"
    }
   },
   "outputs": [
    {
     "data": {
      "text/plain": [
       "2"
      ]
     },
     "execution_count": 1,
     "metadata": {},
     "output_type": "execute_result"
    }
   ],
   "source": [
    "%python\n",
    "1+1"
   ]
  },
  {
   "cell_type": "code",
   "execution_count": null,
   "id": "ee122049-c5e3-49bb-8dd2-ef7faba45cbd",
   "metadata": {},
   "outputs": [],
   "source": []
  }
 ],
 "metadata": {
  "kernelspec": {
   "display_name": "SparkSQL L cluster",
   "language": "",
   "name": "sparksql-l"
  },
  "language_info": {
   "codemirror_mode": {
    "name": "ipython",
    "version": 3
   },
   "file_extension": ".py",
   "mimetype": "text/x-python",
   "name": "python",
   "nbconvert_exporter": "python",
   "pygments_lexer": "ipython3",
   "version": "3.10.8"
  }
 },
 "nbformat": 4,
 "nbformat_minor": 5
}
