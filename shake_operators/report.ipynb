{
 "cells": [
  {
   "cell_type": "code",
   "execution_count": 1,
   "id": "41f0b92d-f5e7-4a06-ac6d-ac71ab242088",
   "metadata": {
    "execution": {
     "iopub.execute_input": "2023-02-05T12:14:18.525531Z",
     "iopub.status.busy": "2023-02-05T12:14:18.523472Z",
     "iopub.status.idle": "2023-02-05T12:14:47.475616Z",
     "shell.execute_reply": "2023-02-05T12:14:47.473110Z",
     "shell.execute_reply.started": "2023-02-05T12:14:18.525443Z"
    }
   },
   "outputs": [
    {
     "name": "stdout",
     "output_type": "stream",
     "text": [
      "Loading spark"
     ]
    },
    {
     "data": {
      "text/html": [
       "<div>\n",
       "<style scoped>\n",
       "    .dataframe tbody tr th:only-of-type {\n",
       "        vertical-align: middle;\n",
       "    }\n",
       "\n",
       "    .dataframe tbody tr th {\n",
       "        vertical-align: top;\n",
       "    }\n",
       "\n",
       "    .dataframe thead th {\n",
       "        text-align: right;\n",
       "    }\n",
       "</style>\n",
       "<table border=\"1\" class=\"dataframe\">\n",
       "  <thead>\n",
       "    <tr style=\"text-align: right;\">\n",
       "      <th></th>\n",
       "      <th>1</th>\n",
       "    </tr>\n",
       "  </thead>\n",
       "  <tbody>\n",
       "    <tr>\n",
       "      <th>0</th>\n",
       "      <td>1</td>\n",
       "    </tr>\n",
       "  </tbody>\n",
       "</table>\n",
       "</div>"
      ],
      "text/plain": [
       "   1\n",
       "0  1"
      ]
     },
     "execution_count": 1,
     "metadata": {},
     "output_type": "execute_result"
    }
   ],
   "source": [
    "SELECT 1"
   ]
  },
  {
   "cell_type": "code",
   "execution_count": 3,
   "id": "1721e023-3635-4399-b5f1-cbfb73d83304",
   "metadata": {
    "execution": {
     "iopub.execute_input": "2023-02-05T12:16:12.984548Z",
     "iopub.status.busy": "2023-02-05T12:16:12.981800Z",
     "iopub.status.idle": "2023-02-05T12:16:19.591486Z",
     "shell.execute_reply": "2023-02-05T12:16:19.589914Z",
     "shell.execute_reply.started": "2023-02-05T12:16:12.984364Z"
    },
    "tags": []
   },
   "outputs": [
    {
     "data": {
      "text/html": [
       "<div>\n",
       "<style scoped>\n",
       "    .dataframe tbody tr th:only-of-type {\n",
       "        vertical-align: middle;\n",
       "    }\n",
       "\n",
       "    .dataframe tbody tr th {\n",
       "        vertical-align: top;\n",
       "    }\n",
       "\n",
       "    .dataframe thead th {\n",
       "        text-align: right;\n",
       "    }\n",
       "</style>\n",
       "<table border=\"1\" class=\"dataframe\">\n",
       "  <thead>\n",
       "    <tr style=\"text-align: right;\">\n",
       "      <th></th>\n",
       "    </tr>\n",
       "  </thead>\n",
       "  <tbody>\n",
       "  </tbody>\n",
       "</table>\n",
       "</div>"
      ],
      "text/plain": [
       "Empty DataFrame\n",
       "Columns: []\n",
       "Index: []"
      ]
     },
     "execution_count": 3,
     "metadata": {},
     "output_type": "execute_result"
    }
   ],
   "source": [
    "CREATE OR REPLACE TEMPORARY VIEW tp_beeshake_history\n",
    "USING parquet\n",
    "OPTIONS\n",
    "(\n",
    "    path \"s3a://analytics/team/mysql/beeline_api/tp_beeshake_history\"\n",
    ")"
   ]
  },
  {
   "cell_type": "code",
   "execution_count": 20,
   "id": "482bd5f7-551c-4efc-b6fd-81a296629a10",
   "metadata": {
    "execution": {
     "iopub.execute_input": "2023-02-05T12:24:57.169795Z",
     "iopub.status.busy": "2023-02-05T12:24:57.168824Z",
     "iopub.status.idle": "2023-02-05T12:24:57.351628Z",
     "shell.execute_reply": "2023-02-05T12:24:57.348682Z",
     "shell.execute_reply.started": "2023-02-05T12:24:57.169720Z"
    },
    "tags": []
   },
   "outputs": [
    {
     "data": {
      "text/html": [
       "<div>\n",
       "<style scoped>\n",
       "    .dataframe tbody tr th:only-of-type {\n",
       "        vertical-align: middle;\n",
       "    }\n",
       "\n",
       "    .dataframe tbody tr th {\n",
       "        vertical-align: top;\n",
       "    }\n",
       "\n",
       "    .dataframe thead th {\n",
       "        text-align: right;\n",
       "    }\n",
       "</style>\n",
       "<table border=\"1\" class=\"dataframe\">\n",
       "  <thead>\n",
       "    <tr style=\"text-align: right;\">\n",
       "      <th></th>\n",
       "    </tr>\n",
       "  </thead>\n",
       "  <tbody>\n",
       "  </tbody>\n",
       "</table>\n",
       "</div>"
      ],
      "text/plain": [
       "Empty DataFrame\n",
       "Columns: []\n",
       "Index: []"
      ]
     },
     "execution_count": 20,
     "metadata": {},
     "output_type": "execute_result"
    }
   ],
   "source": [
    "CREATE OR REPLACE TEMP VIEW report_query AS\n",
    "SELECT CAST(beeshake_date as Date) AS beeshake_date, operator, count(*)\n",
    "FROM tp_beeshake_history\n",
    "GROUP BY CAST(beeshake_date as Date), operator"
   ]
  },
  {
   "cell_type": "code",
   "execution_count": 23,
   "id": "cc769844-20b1-49eb-a5ae-799ff0a26400",
   "metadata": {
    "execution": {
     "iopub.execute_input": "2023-02-05T12:26:08.176677Z",
     "iopub.status.busy": "2023-02-05T12:26:08.174627Z",
     "iopub.status.idle": "2023-02-05T12:26:34.289917Z",
     "shell.execute_reply": "2023-02-05T12:26:34.287226Z",
     "shell.execute_reply.started": "2023-02-05T12:26:08.176561Z"
    },
    "tags": []
   },
   "outputs": [
    {
     "data": {
      "text/html": [
       "<div>\n",
       "<style scoped>\n",
       "    .dataframe tbody tr th:only-of-type {\n",
       "        vertical-align: middle;\n",
       "    }\n",
       "\n",
       "    .dataframe tbody tr th {\n",
       "        vertical-align: top;\n",
       "    }\n",
       "\n",
       "    .dataframe thead th {\n",
       "        text-align: right;\n",
       "    }\n",
       "</style>\n",
       "<table border=\"1\" class=\"dataframe\">\n",
       "  <thead>\n",
       "    <tr style=\"text-align: right;\">\n",
       "      <th></th>\n",
       "    </tr>\n",
       "  </thead>\n",
       "  <tbody>\n",
       "  </tbody>\n",
       "</table>\n",
       "</div>"
      ],
      "text/plain": [
       "Empty DataFrame\n",
       "Columns: []\n",
       "Index: []"
      ]
     },
     "execution_count": 23,
     "metadata": {},
     "output_type": "execute_result"
    }
   ],
   "source": [
    "INSERT OVERWRITE DIRECTORY \"s3a://test/daily_shakes\"\n",
    "USING parquet\n",
    "SELECT * FROM report_query"
   ]
  },
  {
   "cell_type": "code",
   "execution_count": null,
   "id": "81f730b8-fa7a-4428-9a6d-6323058abfae",
   "metadata": {},
   "outputs": [],
   "source": []
  }
 ],
 "metadata": {
  "kernelspec": {
   "display_name": "SparkSQL M cluster",
   "language": "",
   "name": "sparksql-m"
  },
  "language_info": {
   "codemirror_mode": {
    "name": "ipython",
    "version": 3
   },
   "file_extension": ".py",
   "mimetype": "text/x-python",
   "name": "python",
   "nbconvert_exporter": "python",
   "pygments_lexer": "ipython3",
   "version": "3.10.8"
  }
 },
 "nbformat": 4,
 "nbformat_minor": 5
}
