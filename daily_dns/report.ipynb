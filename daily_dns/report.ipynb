{
 "cells": [
  {
   "cell_type": "code",
   "execution_count": 1,
   "id": "c573812f-3f45-4771-8c34-47320c52adab",
   "metadata": {
    "tags": []
   },
   "outputs": [
    {
     "name": "stdout",
     "output_type": "stream",
     "text": [
      "Loading spark"
     ]
    },
    {
     "name": "stderr",
     "output_type": "stream",
     "text": [
      "Exception in thread Thread-3:\n",
      "Traceback (most recent call last):\n",
      "  File \"/opt/conda/lib/python3.10/threading.py\", line 1016, in _bootstrap_inner\n",
      "    self.run()\n",
      "  File \"/opt/conda/lib/python3.10/site-packages/sparkmonitor/kernelextension.py\", line 126, in run\n",
      "    self.onrecv(msg)\n",
      "  File \"/opt/conda/lib/python3.10/site-packages/sparkmonitor/kernelextension.py\", line 143, in onrecv\n",
      "    sendToFrontEnd({\n",
      "  File \"/opt/conda/lib/python3.10/site-packages/sparkmonitor/kernelextension.py\", line 223, in sendToFrontEnd\n",
      "    monitor.send(msg)\n",
      "  File \"/opt/conda/lib/python3.10/site-packages/sparkmonitor/kernelextension.py\", line 57, in send\n",
      "    self.comm.send(msg)\n",
      "AttributeError: 'ScalaMonitor' object has no attribute 'comm'\n"
     ]
    },
    {
     "data": {
      "text/html": [
       "<div>\n",
       "<style scoped>\n",
       "    .dataframe tbody tr th:only-of-type {\n",
       "        vertical-align: middle;\n",
       "    }\n",
       "\n",
       "    .dataframe tbody tr th {\n",
       "        vertical-align: top;\n",
       "    }\n",
       "\n",
       "    .dataframe thead th {\n",
       "        text-align: right;\n",
       "    }\n",
       "</style>\n",
       "<table border=\"1\" class=\"dataframe\">\n",
       "  <thead>\n",
       "    <tr style=\"text-align: right;\">\n",
       "      <th></th>\n",
       "    </tr>\n",
       "  </thead>\n",
       "  <tbody>\n",
       "  </tbody>\n",
       "</table>\n",
       "</div>"
      ],
      "text/plain": [
       "Empty DataFrame\n",
       "Columns: []\n",
       "Index: []"
      ]
     },
     "execution_count": 1,
     "metadata": {},
     "output_type": "execute_result"
    }
   ],
   "source": [
    "CREATE OR REPLACE TEMPORARY VIEW dns\n",
    "USING org.apache.spark.sql.parquet\n",
    "OPTIONS (\n",
    "  path \"s3a://data/dns/\"\n",
    ")"
   ]
  },
  {
   "cell_type": "code",
   "execution_count": 2,
   "id": "6f57ffd9-80e6-473f-bfe5-bbbd7c8e7203",
   "metadata": {
    "execution": {
     "iopub.execute_input": "2023-02-04T15:57:18.795516Z",
     "iopub.status.busy": "2023-02-04T15:57:18.794862Z",
     "iopub.status.idle": "2023-02-04T15:57:19.780947Z",
     "shell.execute_reply": "2023-02-04T15:57:19.778487Z",
     "shell.execute_reply.started": "2023-02-04T15:57:18.795475Z"
    },
    "tags": []
   },
   "outputs": [
    {
     "data": {
      "text/html": [
       "<div>\n",
       "<style scoped>\n",
       "    .dataframe tbody tr th:only-of-type {\n",
       "        vertical-align: middle;\n",
       "    }\n",
       "\n",
       "    .dataframe tbody tr th {\n",
       "        vertical-align: top;\n",
       "    }\n",
       "\n",
       "    .dataframe thead th {\n",
       "        text-align: right;\n",
       "    }\n",
       "</style>\n",
       "<table border=\"1\" class=\"dataframe\">\n",
       "  <thead>\n",
       "    <tr style=\"text-align: right;\">\n",
       "      <th></th>\n",
       "    </tr>\n",
       "  </thead>\n",
       "  <tbody>\n",
       "  </tbody>\n",
       "</table>\n",
       "</div>"
      ],
      "text/plain": [
       "Empty DataFrame\n",
       "Columns: []\n",
       "Index: []"
      ]
     },
     "execution_count": 2,
     "metadata": {},
     "output_type": "execute_result"
    }
   ],
   "source": [
    "CREATE OR REPLACE TEMPORARY VIEW dns_history\n",
    "USING org.apache.spark.sql.parquet\n",
    "OPTIONS (\n",
    "  path \"s3a://test/temp/dns_history/\"\n",
    ")"
   ]
  },
  {
   "cell_type": "code",
   "execution_count": 3,
   "id": "0a73cef7-9e7b-483c-9c50-8b9b2b687e72",
   "metadata": {
    "execution": {
     "iopub.execute_input": "2023-02-04T15:57:19.830489Z",
     "iopub.status.busy": "2023-02-04T15:57:19.829822Z",
     "iopub.status.idle": "2023-02-04T15:57:20.228752Z",
     "shell.execute_reply": "2023-02-04T15:57:20.226766Z",
     "shell.execute_reply.started": "2023-02-04T15:57:19.830419Z"
    },
    "tags": []
   },
   "outputs": [
    {
     "data": {
      "text/html": [
       "<div>\n",
       "<style scoped>\n",
       "    .dataframe tbody tr th:only-of-type {\n",
       "        vertical-align: middle;\n",
       "    }\n",
       "\n",
       "    .dataframe tbody tr th {\n",
       "        vertical-align: top;\n",
       "    }\n",
       "\n",
       "    .dataframe thead th {\n",
       "        text-align: right;\n",
       "    }\n",
       "</style>\n",
       "<table border=\"1\" class=\"dataframe\">\n",
       "  <thead>\n",
       "    <tr style=\"text-align: right;\">\n",
       "      <th></th>\n",
       "    </tr>\n",
       "  </thead>\n",
       "  <tbody>\n",
       "  </tbody>\n",
       "</table>\n",
       "</div>"
      ],
      "text/plain": [
       "Empty DataFrame\n",
       "Columns: []\n",
       "Index: []"
      ]
     },
     "execution_count": 3,
     "metadata": {},
     "output_type": "execute_result"
    }
   ],
   "source": [
    "CREATE OR REPLACE TEMPORARY VIEW dns_report\n",
    "AS\n",
    "SELECT count(DISTINCT user) users, count(*) resolutions, date\n",
    "FROM dns\n",
    "WHERE date >= date_add(current_date(), -3)\n",
    "GROUP BY date"
   ]
  },
  {
   "cell_type": "code",
   "execution_count": 4,
   "id": "6ab6d212-a506-4a03-9d41-61adfd3fcac7",
   "metadata": {
    "execution": {
     "iopub.execute_input": "2023-02-04T15:57:20.231102Z",
     "iopub.status.busy": "2023-02-04T15:57:20.230615Z",
     "iopub.status.idle": "2023-02-04T15:57:27.714198Z",
     "shell.execute_reply": "2023-02-04T15:57:27.711262Z",
     "shell.execute_reply.started": "2023-02-04T15:57:20.231050Z"
    },
    "tags": []
   },
   "outputs": [
    {
     "data": {
      "text/html": [
       "<div>\n",
       "<style scoped>\n",
       "    .dataframe tbody tr th:only-of-type {\n",
       "        vertical-align: middle;\n",
       "    }\n",
       "\n",
       "    .dataframe tbody tr th {\n",
       "        vertical-align: top;\n",
       "    }\n",
       "\n",
       "    .dataframe thead th {\n",
       "        text-align: right;\n",
       "    }\n",
       "</style>\n",
       "<table border=\"1\" class=\"dataframe\">\n",
       "  <thead>\n",
       "    <tr style=\"text-align: right;\">\n",
       "      <th></th>\n",
       "    </tr>\n",
       "  </thead>\n",
       "  <tbody>\n",
       "  </tbody>\n",
       "</table>\n",
       "</div>"
      ],
      "text/plain": [
       "Empty DataFrame\n",
       "Columns: []\n",
       "Index: []"
      ]
     },
     "execution_count": 4,
     "metadata": {},
     "output_type": "execute_result"
    }
   ],
   "source": [
    "INSERT OVERWRITE DIRECTORY \"s3a://test/temp/dir1\"\n",
    "USING parquet\n",
    "SELECT * FROM dns_history\n",
    "WHERE date < date_add(current_date(), -3)"
   ]
  },
  {
   "cell_type": "code",
   "execution_count": 5,
   "id": "ec332e5c-c43e-47cf-b7fc-203f9b448fb3",
   "metadata": {
    "execution": {
     "iopub.execute_input": "2023-02-04T15:57:27.718586Z",
     "iopub.status.busy": "2023-02-04T15:57:27.717878Z",
     "iopub.status.idle": "2023-02-04T15:57:28.786762Z",
     "shell.execute_reply": "2023-02-04T15:57:28.784239Z",
     "shell.execute_reply.started": "2023-02-04T15:57:27.718520Z"
    },
    "tags": []
   },
   "outputs": [
    {
     "data": {
      "text/html": [
       "<div>\n",
       "<style scoped>\n",
       "    .dataframe tbody tr th:only-of-type {\n",
       "        vertical-align: middle;\n",
       "    }\n",
       "\n",
       "    .dataframe tbody tr th {\n",
       "        vertical-align: top;\n",
       "    }\n",
       "\n",
       "    .dataframe thead th {\n",
       "        text-align: right;\n",
       "    }\n",
       "</style>\n",
       "<table border=\"1\" class=\"dataframe\">\n",
       "  <thead>\n",
       "    <tr style=\"text-align: right;\">\n",
       "      <th></th>\n",
       "    </tr>\n",
       "  </thead>\n",
       "  <tbody>\n",
       "  </tbody>\n",
       "</table>\n",
       "</div>"
      ],
      "text/plain": [
       "Empty DataFrame\n",
       "Columns: []\n",
       "Index: []"
      ]
     },
     "execution_count": 5,
     "metadata": {},
     "output_type": "execute_result"
    }
   ],
   "source": [
    "CREATE OR REPLACE TEMPORARY VIEW dir1\n",
    "USING org.apache.spark.sql.parquet\n",
    "OPTIONS (\n",
    "  path \"s3a://test/temp/dir1\"\n",
    ")"
   ]
  },
  {
   "cell_type": "code",
   "execution_count": 6,
   "id": "c1a9c421-ee5f-4132-985e-d1e1aa576969",
   "metadata": {
    "execution": {
     "iopub.execute_input": "2023-02-04T15:57:28.804573Z",
     "iopub.status.busy": "2023-02-04T15:57:28.802988Z",
     "iopub.status.idle": "2023-02-04T16:00:44.816067Z",
     "shell.execute_reply": "2023-02-04T16:00:44.813514Z",
     "shell.execute_reply.started": "2023-02-04T15:57:28.804502Z"
    },
    "tags": []
   },
   "outputs": [
    {
     "data": {
      "text/html": [
       "<div>\n",
       "<style scoped>\n",
       "    .dataframe tbody tr th:only-of-type {\n",
       "        vertical-align: middle;\n",
       "    }\n",
       "\n",
       "    .dataframe tbody tr th {\n",
       "        vertical-align: top;\n",
       "    }\n",
       "\n",
       "    .dataframe thead th {\n",
       "        text-align: right;\n",
       "    }\n",
       "</style>\n",
       "<table border=\"1\" class=\"dataframe\">\n",
       "  <thead>\n",
       "    <tr style=\"text-align: right;\">\n",
       "      <th></th>\n",
       "    </tr>\n",
       "  </thead>\n",
       "  <tbody>\n",
       "  </tbody>\n",
       "</table>\n",
       "</div>"
      ],
      "text/plain": [
       "Empty DataFrame\n",
       "Columns: []\n",
       "Index: []"
      ]
     },
     "execution_count": 6,
     "metadata": {},
     "output_type": "execute_result"
    }
   ],
   "source": [
    "INSERT OVERWRITE DIRECTORY \"s3a://test/temp/dns_history/\"\n",
    "USING parquet\n",
    "SELECT * FROM dns_report\n",
    "UNION ALL\n",
    "SELECT * FROM dir1"
   ]
  },
  {
   "cell_type": "code",
   "execution_count": 22,
   "id": "85c0ee05-a83e-4de1-b30d-715d29774a52",
   "metadata": {
    "execution": {
     "iopub.execute_input": "2023-02-04T16:08:19.599316Z",
     "iopub.status.busy": "2023-02-04T16:08:19.597366Z",
     "iopub.status.idle": "2023-02-04T16:08:19.768578Z",
     "shell.execute_reply": "2023-02-04T16:08:19.764616Z",
     "shell.execute_reply.started": "2023-02-04T16:08:19.599188Z"
    },
    "tags": []
   },
   "outputs": [
    {
     "data": {
      "text/html": [
       "<div>\n",
       "<style scoped>\n",
       "    .dataframe tbody tr th:only-of-type {\n",
       "        vertical-align: middle;\n",
       "    }\n",
       "\n",
       "    .dataframe tbody tr th {\n",
       "        vertical-align: top;\n",
       "    }\n",
       "\n",
       "    .dataframe thead th {\n",
       "        text-align: right;\n",
       "    }\n",
       "</style>\n",
       "<table border=\"1\" class=\"dataframe\">\n",
       "  <thead>\n",
       "    <tr style=\"text-align: right;\">\n",
       "      <th></th>\n",
       "      <th>ENV</th>\n",
       "      <th>1</th>\n",
       "    </tr>\n",
       "  </thead>\n",
       "  <tbody>\n",
       "    <tr>\n",
       "      <th>0</th>\n",
       "      <td>zDdnekZrHIyltouc</td>\n",
       "      <td>1</td>\n",
       "    </tr>\n",
       "  </tbody>\n",
       "</table>\n",
       "</div>"
      ],
      "text/plain": [
       "                ENV  1\n",
       "0  zDdnekZrHIyltouc  1"
      ]
     },
     "execution_count": 22,
     "metadata": {},
     "output_type": "execute_result"
    }
   ],
   "source": [
    "SELECT \"${env:S3_ACCESS_KEY}\" AS ENV, 1\n"
   ]
  }
 ],
 "metadata": {
  "kernelspec": {
   "display_name": "SparkSQL M cluster",
   "language": "",
   "name": "sparksql-m"
  },
  "language_info": {
   "codemirror_mode": {
    "name": "ipython",
    "version": 3
   },
   "file_extension": ".py",
   "mimetype": "text/x-python",
   "name": "python",
   "nbconvert_exporter": "python",
   "pygments_lexer": "ipython3",
   "version": "3.10.8"
  }
 },
 "nbformat": 4,
 "nbformat_minor": 5
}
