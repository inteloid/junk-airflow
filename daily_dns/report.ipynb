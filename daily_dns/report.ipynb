{
 "cells": [
  {
   "cell_type": "code",
   "execution_count": null,
   "id": "c573812f-3f45-4771-8c34-47320c52adab",
   "metadata": {
    "tags": []
   },
   "outputs": [],
   "source": [
    "CREATE OR REPLACE TEMPORARY VIEW dns\n",
    "USING org.apache.spark.sql.parquet\n",
    "OPTIONS (\n",
    "  path \"s3a://data/dns/\"\n",
    ")"
   ]
  },
  {
   "cell_type": "code",
   "execution_count": null,
   "id": "6f57ffd9-80e6-473f-bfe5-bbbd7c8e7203",
   "metadata": {
    "tags": []
   },
   "outputs": [],
   "source": [
    "CREATE OR REPLACE TEMPORARY VIEW dns_history\n",
    "USING org.apache.spark.sql.parquet\n",
    "OPTIONS (\n",
    "  path \"s3a://test/temp/dns_history/\"\n",
    ")"
   ]
  },
  {
   "cell_type": "code",
   "execution_count": null,
   "id": "0a73cef7-9e7b-483c-9c50-8b9b2b687e72",
   "metadata": {
    "tags": []
   },
   "outputs": [],
   "source": [
    "CREATE OR REPLACE TEMPORARY VIEW dns_report\n",
    "AS\n",
    "SELECT count(DISTINCT user) users, count(*) resolutions, date\n",
    "FROM dns\n",
    "WHERE date >= date_add(current_date(), -3)\n",
    "GROUP BY date"
   ]
  },
  {
   "cell_type": "code",
   "execution_count": null,
   "id": "6ab6d212-a506-4a03-9d41-61adfd3fcac7",
   "metadata": {
    "tags": []
   },
   "outputs": [],
   "source": [
    "INSERT OVERWRITE DIRECTORY \"s3a://test/temp/dir1\"\n",
    "USING parquet\n",
    "SELECT * FROM dns_history\n",
    "WHERE date < date_add(current_date(), -3)"
   ]
  },
  {
   "cell_type": "code",
   "execution_count": null,
   "id": "ec332e5c-c43e-47cf-b7fc-203f9b448fb3",
   "metadata": {
    "tags": []
   },
   "outputs": [],
   "source": [
    "CREATE OR REPLACE TEMPORARY VIEW dir1\n",
    "USING org.apache.spark.sql.parquet\n",
    "OPTIONS (\n",
    "  path \"s3a://test/temp/dir1\"\n",
    ")"
   ]
  },
  {
   "cell_type": "code",
   "execution_count": null,
   "id": "c1a9c421-ee5f-4132-985e-d1e1aa576969",
   "metadata": {
    "tags": []
   },
   "outputs": [],
   "source": [
    "INSERT OVERWRITE DIRECTORY \"s3a://test/temp/dns_history/\"\n",
    "USING parquet\n",
    "SELECT * FROM dns_report\n",
    "UNION ALL\n",
    "SELECT * FROM dir1"
   ]
  },
  {
   "cell_type": "code",
   "execution_count": null,
   "id": "85c0ee05-a83e-4de1-b30d-715d29774a52",
   "metadata": {
    "tags": []
   },
   "outputs": [],
   "source": [
    "SELECT \"${env:S3_ACCESS_KEY}\" AS ENV, 1"
   ]
  }
 ],
 "metadata": {
  "kernelspec": {
   "display_name": "SparkSQL M cluster",
   "language": "",
   "name": "sparksql-m"
  },
  "language_info": {
   "codemirror_mode": {
    "name": "ipython",
    "version": 3
   },
   "file_extension": ".py",
   "mimetype": "text/x-python",
   "name": "python",
   "nbconvert_exporter": "python",
   "pygments_lexer": "ipython3",
   "version": "3.10.8"
  }
 },
 "nbformat": 4,
 "nbformat_minor": 5
}
