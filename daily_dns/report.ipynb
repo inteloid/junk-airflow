{
 "cells": [
  {
   "cell_type": "code",
   "execution_count": 31,
   "id": "c573812f-3f45-4771-8c34-47320c52adab",
   "metadata": {
    "execution": {
     "iopub.execute_input": "2023-02-05T08:06:51.290870Z",
     "iopub.status.busy": "2023-02-05T08:06:51.289974Z",
     "iopub.status.idle": "2023-02-05T08:06:55.165290Z",
     "shell.execute_reply": "2023-02-05T08:06:55.161900Z",
     "shell.execute_reply.started": "2023-02-05T08:06:51.290793Z"
    },
    "tags": []
   },
   "outputs": [
    {
     "data": {
      "text/html": [
       "<div>\n",
       "<style scoped>\n",
       "    .dataframe tbody tr th:only-of-type {\n",
       "        vertical-align: middle;\n",
       "    }\n",
       "\n",
       "    .dataframe tbody tr th {\n",
       "        vertical-align: top;\n",
       "    }\n",
       "\n",
       "    .dataframe thead th {\n",
       "        text-align: right;\n",
       "    }\n",
       "</style>\n",
       "<table border=\"1\" class=\"dataframe\">\n",
       "  <thead>\n",
       "    <tr style=\"text-align: right;\">\n",
       "      <th></th>\n",
       "    </tr>\n",
       "  </thead>\n",
       "  <tbody>\n",
       "  </tbody>\n",
       "</table>\n",
       "</div>"
      ],
      "text/plain": [
       "Empty DataFrame\n",
       "Columns: []\n",
       "Index: []"
      ]
     },
     "execution_count": 31,
     "metadata": {},
     "output_type": "execute_result"
    }
   ],
   "source": [
    "CREATE OR REPLACE TEMPORARY VIEW dns\n",
    "USING org.apache.spark.sql.parquet\n",
    "OPTIONS (\n",
    "  path \"s3a://data/dns/\"\n",
    ")"
   ]
  },
  {
   "cell_type": "code",
   "execution_count": 32,
   "id": "6f57ffd9-80e6-473f-bfe5-bbbd7c8e7203",
   "metadata": {
    "execution": {
     "iopub.execute_input": "2023-02-05T08:06:57.186989Z",
     "iopub.status.busy": "2023-02-05T08:06:57.184019Z",
     "iopub.status.idle": "2023-02-05T08:06:57.705900Z",
     "shell.execute_reply": "2023-02-05T08:06:57.703472Z",
     "shell.execute_reply.started": "2023-02-05T08:06:57.186907Z"
    },
    "tags": []
   },
   "outputs": [
    {
     "data": {
      "text/html": [
       "<div>\n",
       "<style scoped>\n",
       "    .dataframe tbody tr th:only-of-type {\n",
       "        vertical-align: middle;\n",
       "    }\n",
       "\n",
       "    .dataframe tbody tr th {\n",
       "        vertical-align: top;\n",
       "    }\n",
       "\n",
       "    .dataframe thead th {\n",
       "        text-align: right;\n",
       "    }\n",
       "</style>\n",
       "<table border=\"1\" class=\"dataframe\">\n",
       "  <thead>\n",
       "    <tr style=\"text-align: right;\">\n",
       "      <th></th>\n",
       "    </tr>\n",
       "  </thead>\n",
       "  <tbody>\n",
       "  </tbody>\n",
       "</table>\n",
       "</div>"
      ],
      "text/plain": [
       "Empty DataFrame\n",
       "Columns: []\n",
       "Index: []"
      ]
     },
     "execution_count": 32,
     "metadata": {},
     "output_type": "execute_result"
    }
   ],
   "source": [
    "CREATE OR REPLACE TEMPORARY VIEW dns_history\n",
    "USING org.apache.spark.sql.parquet\n",
    "OPTIONS (\n",
    "  path \"s3a://test/temp/dns_history/\"\n",
    ")"
   ]
  },
  {
   "cell_type": "code",
   "execution_count": 33,
   "id": "0a73cef7-9e7b-483c-9c50-8b9b2b687e72",
   "metadata": {
    "execution": {
     "iopub.execute_input": "2023-02-05T08:07:03.995817Z",
     "iopub.status.busy": "2023-02-05T08:07:03.994885Z",
     "iopub.status.idle": "2023-02-05T08:07:04.151468Z",
     "shell.execute_reply": "2023-02-05T08:07:04.148922Z",
     "shell.execute_reply.started": "2023-02-05T08:07:03.995736Z"
    },
    "tags": []
   },
   "outputs": [
    {
     "data": {
      "text/html": [
       "<div>\n",
       "<style scoped>\n",
       "    .dataframe tbody tr th:only-of-type {\n",
       "        vertical-align: middle;\n",
       "    }\n",
       "\n",
       "    .dataframe tbody tr th {\n",
       "        vertical-align: top;\n",
       "    }\n",
       "\n",
       "    .dataframe thead th {\n",
       "        text-align: right;\n",
       "    }\n",
       "</style>\n",
       "<table border=\"1\" class=\"dataframe\">\n",
       "  <thead>\n",
       "    <tr style=\"text-align: right;\">\n",
       "      <th></th>\n",
       "    </tr>\n",
       "  </thead>\n",
       "  <tbody>\n",
       "  </tbody>\n",
       "</table>\n",
       "</div>"
      ],
      "text/plain": [
       "Empty DataFrame\n",
       "Columns: []\n",
       "Index: []"
      ]
     },
     "execution_count": 33,
     "metadata": {},
     "output_type": "execute_result"
    }
   ],
   "source": [
    "CREATE OR REPLACE TEMPORARY VIEW dns_report\n",
    "AS\n",
    "SELECT count(DISTINCT user) users, count(*) resolutions, date\n",
    "FROM dns\n",
    "WHERE date >= date_add(current_date(), -3)\n",
    "GROUP BY date"
   ]
  },
  {
   "cell_type": "code",
   "execution_count": 34,
   "id": "6ab6d212-a506-4a03-9d41-61adfd3fcac7",
   "metadata": {
    "execution": {
     "iopub.execute_input": "2023-02-05T08:07:07.370429Z",
     "iopub.status.busy": "2023-02-05T08:07:07.368758Z",
     "iopub.status.idle": "2023-02-05T08:10:24.527240Z",
     "shell.execute_reply": "2023-02-05T08:10:24.523779Z",
     "shell.execute_reply.started": "2023-02-05T08:07:07.370347Z"
    },
    "tags": []
   },
   "outputs": [
    {
     "data": {
      "text/html": [
       "<div>\n",
       "<style scoped>\n",
       "    .dataframe tbody tr th:only-of-type {\n",
       "        vertical-align: middle;\n",
       "    }\n",
       "\n",
       "    .dataframe tbody tr th {\n",
       "        vertical-align: top;\n",
       "    }\n",
       "\n",
       "    .dataframe thead th {\n",
       "        text-align: right;\n",
       "    }\n",
       "</style>\n",
       "<table border=\"1\" class=\"dataframe\">\n",
       "  <thead>\n",
       "    <tr style=\"text-align: right;\">\n",
       "      <th></th>\n",
       "    </tr>\n",
       "  </thead>\n",
       "  <tbody>\n",
       "  </tbody>\n",
       "</table>\n",
       "</div>"
      ],
      "text/plain": [
       "Empty DataFrame\n",
       "Columns: []\n",
       "Index: []"
      ]
     },
     "execution_count": 34,
     "metadata": {},
     "output_type": "execute_result"
    }
   ],
   "source": [
    "INSERT OVERWRITE DIRECTORY \"s3a://test/temp/dir1\"\n",
    "USING parquet\n",
    "SELECT * FROM dns_history WHERE date < date_add(current_date(), - IF(\"${env:S3_ACCESS_KEY}\" IS NOT NULL, 3, 3))\n",
    "UNION ALL\n",
    "SELECT * FROM dns_report"
   ]
  },
  {
   "cell_type": "code",
   "execution_count": 35,
   "id": "ec332e5c-c43e-47cf-b7fc-203f9b448fb3",
   "metadata": {
    "execution": {
     "iopub.execute_input": "2023-02-05T08:10:24.535411Z",
     "iopub.status.busy": "2023-02-05T08:10:24.533104Z",
     "iopub.status.idle": "2023-02-05T08:10:24.977774Z",
     "shell.execute_reply": "2023-02-05T08:10:24.976356Z",
     "shell.execute_reply.started": "2023-02-05T08:10:24.535293Z"
    },
    "tags": []
   },
   "outputs": [
    {
     "data": {
      "text/html": [
       "<div>\n",
       "<style scoped>\n",
       "    .dataframe tbody tr th:only-of-type {\n",
       "        vertical-align: middle;\n",
       "    }\n",
       "\n",
       "    .dataframe tbody tr th {\n",
       "        vertical-align: top;\n",
       "    }\n",
       "\n",
       "    .dataframe thead th {\n",
       "        text-align: right;\n",
       "    }\n",
       "</style>\n",
       "<table border=\"1\" class=\"dataframe\">\n",
       "  <thead>\n",
       "    <tr style=\"text-align: right;\">\n",
       "      <th></th>\n",
       "    </tr>\n",
       "  </thead>\n",
       "  <tbody>\n",
       "  </tbody>\n",
       "</table>\n",
       "</div>"
      ],
      "text/plain": [
       "Empty DataFrame\n",
       "Columns: []\n",
       "Index: []"
      ]
     },
     "execution_count": 35,
     "metadata": {},
     "output_type": "execute_result"
    }
   ],
   "source": [
    "CREATE OR REPLACE TEMPORARY VIEW dir1\n",
    "USING org.apache.spark.sql.parquet\n",
    "OPTIONS (\n",
    "  path \"s3a://test/temp/dir1\"\n",
    ")"
   ]
  },
  {
   "cell_type": "code",
   "execution_count": 36,
   "id": "c1a9c421-ee5f-4132-985e-d1e1aa576969",
   "metadata": {
    "execution": {
     "iopub.execute_input": "2023-02-05T08:10:24.980080Z",
     "iopub.status.busy": "2023-02-05T08:10:24.979274Z",
     "iopub.status.idle": "2023-02-05T08:10:28.148146Z",
     "shell.execute_reply": "2023-02-05T08:10:28.146072Z",
     "shell.execute_reply.started": "2023-02-05T08:10:24.980045Z"
    },
    "tags": []
   },
   "outputs": [
    {
     "data": {
      "text/html": [
       "<div>\n",
       "<style scoped>\n",
       "    .dataframe tbody tr th:only-of-type {\n",
       "        vertical-align: middle;\n",
       "    }\n",
       "\n",
       "    .dataframe tbody tr th {\n",
       "        vertical-align: top;\n",
       "    }\n",
       "\n",
       "    .dataframe thead th {\n",
       "        text-align: right;\n",
       "    }\n",
       "</style>\n",
       "<table border=\"1\" class=\"dataframe\">\n",
       "  <thead>\n",
       "    <tr style=\"text-align: right;\">\n",
       "      <th></th>\n",
       "    </tr>\n",
       "  </thead>\n",
       "  <tbody>\n",
       "  </tbody>\n",
       "</table>\n",
       "</div>"
      ],
      "text/plain": [
       "Empty DataFrame\n",
       "Columns: []\n",
       "Index: []"
      ]
     },
     "execution_count": 36,
     "metadata": {},
     "output_type": "execute_result"
    }
   ],
   "source": [
    "INSERT OVERWRITE DIRECTORY \"s3a://test/temp/dns_history/\"\n",
    "USING parquet\n",
    "SELECT * FROM dir1"
   ]
  }
 ],
 "metadata": {
  "kernelspec": {
   "display_name": "SparkSQL M cluster",
   "language": "",
   "name": "sparksql-m"
  },
  "language_info": {
   "codemirror_mode": {
    "name": "ipython",
    "version": 3
   },
   "file_extension": ".py",
   "mimetype": "text/x-python",
   "name": "python",
   "nbconvert_exporter": "python",
   "pygments_lexer": "ipython3",
   "version": "3.10.8"
  }
 },
 "nbformat": 4,
 "nbformat_minor": 5
}
