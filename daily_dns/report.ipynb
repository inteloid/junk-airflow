{
 "cells": [
  {
   "cell_type": "code",
   "execution_count": 49,
   "id": "c573812f-3f45-4771-8c34-47320c52adab",
   "metadata": {
    "execution": {
     "iopub.execute_input": "2023-02-04T14:16:06.697104Z",
     "iopub.status.busy": "2023-02-04T14:16:06.695033Z",
     "iopub.status.idle": "2023-02-04T14:16:09.530563Z",
     "shell.execute_reply": "2023-02-04T14:16:09.526962Z",
     "shell.execute_reply.started": "2023-02-04T14:16:06.697030Z"
    },
    "tags": []
   },
   "outputs": [
    {
     "data": {
      "text/html": [
       "<div>\n",
       "<style scoped>\n",
       "    .dataframe tbody tr th:only-of-type {\n",
       "        vertical-align: middle;\n",
       "    }\n",
       "\n",
       "    .dataframe tbody tr th {\n",
       "        vertical-align: top;\n",
       "    }\n",
       "\n",
       "    .dataframe thead th {\n",
       "        text-align: right;\n",
       "    }\n",
       "</style>\n",
       "<table border=\"1\" class=\"dataframe\">\n",
       "  <thead>\n",
       "    <tr style=\"text-align: right;\">\n",
       "      <th></th>\n",
       "    </tr>\n",
       "  </thead>\n",
       "  <tbody>\n",
       "  </tbody>\n",
       "</table>\n",
       "</div>"
      ],
      "text/plain": [
       "Empty DataFrame\n",
       "Columns: []\n",
       "Index: []"
      ]
     },
     "execution_count": 49,
     "metadata": {},
     "output_type": "execute_result"
    }
   ],
   "source": [
    "CREATE OR REPLACE TEMPORARY VIEW dns\n",
    "USING org.apache.spark.sql.parquet\n",
    "OPTIONS (\n",
    "  path \"s3a://data/dns/\"\n",
    ")"
   ]
  },
  {
   "cell_type": "code",
   "execution_count": 50,
   "id": "6f57ffd9-80e6-473f-bfe5-bbbd7c8e7203",
   "metadata": {
    "execution": {
     "iopub.execute_input": "2023-02-04T14:16:09.534610Z",
     "iopub.status.busy": "2023-02-04T14:16:09.533721Z",
     "iopub.status.idle": "2023-02-04T14:16:10.033466Z",
     "shell.execute_reply": "2023-02-04T14:16:10.030578Z",
     "shell.execute_reply.started": "2023-02-04T14:16:09.534534Z"
    },
    "tags": []
   },
   "outputs": [
    {
     "data": {
      "text/html": [
       "<div>\n",
       "<style scoped>\n",
       "    .dataframe tbody tr th:only-of-type {\n",
       "        vertical-align: middle;\n",
       "    }\n",
       "\n",
       "    .dataframe tbody tr th {\n",
       "        vertical-align: top;\n",
       "    }\n",
       "\n",
       "    .dataframe thead th {\n",
       "        text-align: right;\n",
       "    }\n",
       "</style>\n",
       "<table border=\"1\" class=\"dataframe\">\n",
       "  <thead>\n",
       "    <tr style=\"text-align: right;\">\n",
       "      <th></th>\n",
       "    </tr>\n",
       "  </thead>\n",
       "  <tbody>\n",
       "  </tbody>\n",
       "</table>\n",
       "</div>"
      ],
      "text/plain": [
       "Empty DataFrame\n",
       "Columns: []\n",
       "Index: []"
      ]
     },
     "execution_count": 50,
     "metadata": {},
     "output_type": "execute_result"
    }
   ],
   "source": [
    "CREATE OR REPLACE TEMPORARY VIEW dns_history\n",
    "USING org.apache.spark.sql.parquet\n",
    "OPTIONS (\n",
    "  path \"s3a://test/temp/dns_history/\"\n",
    ")"
   ]
  },
  {
   "cell_type": "code",
   "execution_count": 51,
   "id": "0a73cef7-9e7b-483c-9c50-8b9b2b687e72",
   "metadata": {
    "execution": {
     "iopub.execute_input": "2023-02-04T14:16:10.041170Z",
     "iopub.status.busy": "2023-02-04T14:16:10.039992Z",
     "iopub.status.idle": "2023-02-04T14:16:10.179270Z",
     "shell.execute_reply": "2023-02-04T14:16:10.176485Z",
     "shell.execute_reply.started": "2023-02-04T14:16:10.041052Z"
    },
    "tags": []
   },
   "outputs": [
    {
     "data": {
      "text/html": [
       "<div>\n",
       "<style scoped>\n",
       "    .dataframe tbody tr th:only-of-type {\n",
       "        vertical-align: middle;\n",
       "    }\n",
       "\n",
       "    .dataframe tbody tr th {\n",
       "        vertical-align: top;\n",
       "    }\n",
       "\n",
       "    .dataframe thead th {\n",
       "        text-align: right;\n",
       "    }\n",
       "</style>\n",
       "<table border=\"1\" class=\"dataframe\">\n",
       "  <thead>\n",
       "    <tr style=\"text-align: right;\">\n",
       "      <th></th>\n",
       "    </tr>\n",
       "  </thead>\n",
       "  <tbody>\n",
       "  </tbody>\n",
       "</table>\n",
       "</div>"
      ],
      "text/plain": [
       "Empty DataFrame\n",
       "Columns: []\n",
       "Index: []"
      ]
     },
     "execution_count": 51,
     "metadata": {},
     "output_type": "execute_result"
    }
   ],
   "source": [
    "CREATE OR REPLACE TEMPORARY VIEW dns_report\n",
    "AS\n",
    "SELECT count(DISTINCT user) users, count(*) resolutions, date\n",
    "FROM dns\n",
    "WHERE date >= date_add(current_date(), -3)\n",
    "GROUP BY date"
   ]
  },
  {
   "cell_type": "code",
   "execution_count": 52,
   "id": "6ab6d212-a506-4a03-9d41-61adfd3fcac7",
   "metadata": {
    "execution": {
     "iopub.execute_input": "2023-02-04T14:16:10.184379Z",
     "iopub.status.busy": "2023-02-04T14:16:10.183654Z",
     "iopub.status.idle": "2023-02-04T14:16:12.118194Z",
     "shell.execute_reply": "2023-02-04T14:16:12.115792Z",
     "shell.execute_reply.started": "2023-02-04T14:16:10.184307Z"
    },
    "tags": []
   },
   "outputs": [
    {
     "data": {
      "text/html": [
       "<div>\n",
       "<style scoped>\n",
       "    .dataframe tbody tr th:only-of-type {\n",
       "        vertical-align: middle;\n",
       "    }\n",
       "\n",
       "    .dataframe tbody tr th {\n",
       "        vertical-align: top;\n",
       "    }\n",
       "\n",
       "    .dataframe thead th {\n",
       "        text-align: right;\n",
       "    }\n",
       "</style>\n",
       "<table border=\"1\" class=\"dataframe\">\n",
       "  <thead>\n",
       "    <tr style=\"text-align: right;\">\n",
       "      <th></th>\n",
       "    </tr>\n",
       "  </thead>\n",
       "  <tbody>\n",
       "  </tbody>\n",
       "</table>\n",
       "</div>"
      ],
      "text/plain": [
       "Empty DataFrame\n",
       "Columns: []\n",
       "Index: []"
      ]
     },
     "execution_count": 52,
     "metadata": {},
     "output_type": "execute_result"
    }
   ],
   "source": [
    "INSERT OVERWRITE DIRECTORY \"s3a://test/temp/dir1\"\n",
    "USING parquet\n",
    "SELECT * FROM dns_history\n",
    "WHERE date < date_add(current_date(), -3)"
   ]
  },
  {
   "cell_type": "code",
   "execution_count": 53,
   "id": "ec332e5c-c43e-47cf-b7fc-203f9b448fb3",
   "metadata": {
    "execution": {
     "iopub.execute_input": "2023-02-04T14:16:12.123017Z",
     "iopub.status.busy": "2023-02-04T14:16:12.121166Z",
     "iopub.status.idle": "2023-02-04T14:16:12.493682Z",
     "shell.execute_reply": "2023-02-04T14:16:12.491186Z",
     "shell.execute_reply.started": "2023-02-04T14:16:12.122943Z"
    },
    "tags": []
   },
   "outputs": [
    {
     "data": {
      "text/html": [
       "<div>\n",
       "<style scoped>\n",
       "    .dataframe tbody tr th:only-of-type {\n",
       "        vertical-align: middle;\n",
       "    }\n",
       "\n",
       "    .dataframe tbody tr th {\n",
       "        vertical-align: top;\n",
       "    }\n",
       "\n",
       "    .dataframe thead th {\n",
       "        text-align: right;\n",
       "    }\n",
       "</style>\n",
       "<table border=\"1\" class=\"dataframe\">\n",
       "  <thead>\n",
       "    <tr style=\"text-align: right;\">\n",
       "      <th></th>\n",
       "    </tr>\n",
       "  </thead>\n",
       "  <tbody>\n",
       "  </tbody>\n",
       "</table>\n",
       "</div>"
      ],
      "text/plain": [
       "Empty DataFrame\n",
       "Columns: []\n",
       "Index: []"
      ]
     },
     "execution_count": 53,
     "metadata": {},
     "output_type": "execute_result"
    }
   ],
   "source": [
    "CREATE OR REPLACE TEMPORARY VIEW dir1\n",
    "USING org.apache.spark.sql.parquet\n",
    "OPTIONS (\n",
    "  path \"s3a://test/temp/dir1\"\n",
    ")"
   ]
  },
  {
   "cell_type": "code",
   "execution_count": null,
   "id": "c1a9c421-ee5f-4132-985e-d1e1aa576969",
   "metadata": {
    "execution": {
     "iopub.execute_input": "2023-02-04T14:19:14.379716Z",
     "iopub.status.busy": "2023-02-04T14:19:14.378312Z"
    },
    "tags": []
   },
   "outputs": [],
   "source": [
    "INSERT OVERWRITE DIRECTORY \"s3a://test/temp/dns_history/\"\n",
    "USING parquet\n",
    "SELECT * FROM dns_report\n",
    "UNION ALL\n",
    "SELECT * FROM dir1"
   ]
  }
 ],
 "metadata": {
  "kernelspec": {
   "display_name": "SparkSQL M cluster",
   "language": "",
   "name": "sparksql-m"
  },
  "language_info": {
   "codemirror_mode": {
    "name": "ipython",
    "version": 3
   },
   "file_extension": ".py",
   "mimetype": "text/x-python",
   "name": "python",
   "nbconvert_exporter": "python",
   "pygments_lexer": "ipython3",
   "version": "3.10.8"
  }
 },
 "nbformat": 4,
 "nbformat_minor": 5
}
