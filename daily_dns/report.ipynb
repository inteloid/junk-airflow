{
 "cells": [
  {
   "cell_type": "code",
   "execution_count": 1,
   "id": "c573812f-3f45-4771-8c34-47320c52adab",
   "metadata": {
    "execution": {
     "iopub.execute_input": "2023-02-07T02:33:53.377125Z",
     "iopub.status.busy": "2023-02-07T02:33:53.376228Z",
     "iopub.status.idle": "2023-02-07T02:34:48.066542Z",
     "shell.execute_reply": "2023-02-07T02:34:48.062956Z",
     "shell.execute_reply.started": "2023-02-07T02:33:53.377078Z"
    },
    "tags": []
   },
   "outputs": [
    {
     "name": "stdout",
     "output_type": "stream",
     "text": [
      "Loading spark"
     ]
    },
    {
     "data": {
      "text/html": [
       "<div>\n",
       "<style scoped>\n",
       "    .dataframe tbody tr th:only-of-type {\n",
       "        vertical-align: middle;\n",
       "    }\n",
       "\n",
       "    .dataframe tbody tr th {\n",
       "        vertical-align: top;\n",
       "    }\n",
       "\n",
       "    .dataframe thead th {\n",
       "        text-align: right;\n",
       "    }\n",
       "</style>\n",
       "<table border=\"1\" class=\"dataframe\">\n",
       "  <thead>\n",
       "    <tr style=\"text-align: right;\">\n",
       "      <th></th>\n",
       "    </tr>\n",
       "  </thead>\n",
       "  <tbody>\n",
       "  </tbody>\n",
       "</table>\n",
       "</div>"
      ],
      "text/plain": [
       "Empty DataFrame\n",
       "Columns: []\n",
       "Index: []"
      ]
     },
     "execution_count": 1,
     "metadata": {},
     "output_type": "execute_result"
    }
   ],
   "source": [
    "CREATE OR REPLACE TEMPORARY VIEW dns\n",
    "USING org.apache.spark.sql.parquet\n",
    "OPTIONS (\n",
    "  path \"s3a://data/dns/\"\n",
    ")"
   ]
  },
  {
   "cell_type": "code",
   "execution_count": 2,
   "id": "6f57ffd9-80e6-473f-bfe5-bbbd7c8e7203",
   "metadata": {
    "execution": {
     "iopub.execute_input": "2023-02-07T02:34:48.072881Z",
     "iopub.status.busy": "2023-02-07T02:34:48.071556Z",
     "iopub.status.idle": "2023-02-07T02:34:49.756464Z",
     "shell.execute_reply": "2023-02-07T02:34:49.754690Z",
     "shell.execute_reply.started": "2023-02-07T02:34:48.072807Z"
    },
    "tags": []
   },
   "outputs": [
    {
     "data": {
      "text/html": [
       "<div>\n",
       "<style scoped>\n",
       "    .dataframe tbody tr th:only-of-type {\n",
       "        vertical-align: middle;\n",
       "    }\n",
       "\n",
       "    .dataframe tbody tr th {\n",
       "        vertical-align: top;\n",
       "    }\n",
       "\n",
       "    .dataframe thead th {\n",
       "        text-align: right;\n",
       "    }\n",
       "</style>\n",
       "<table border=\"1\" class=\"dataframe\">\n",
       "  <thead>\n",
       "    <tr style=\"text-align: right;\">\n",
       "      <th></th>\n",
       "    </tr>\n",
       "  </thead>\n",
       "  <tbody>\n",
       "  </tbody>\n",
       "</table>\n",
       "</div>"
      ],
      "text/plain": [
       "Empty DataFrame\n",
       "Columns: []\n",
       "Index: []"
      ]
     },
     "execution_count": 2,
     "metadata": {},
     "output_type": "execute_result"
    }
   ],
   "source": [
    "CREATE OR REPLACE TEMPORARY VIEW dns_history\n",
    "USING org.apache.spark.sql.parquet\n",
    "OPTIONS (\n",
    "  path \"s3a://test/temp/dns_history/\"\n",
    ")"
   ]
  },
  {
   "cell_type": "code",
   "execution_count": 9,
   "id": "0a73cef7-9e7b-483c-9c50-8b9b2b687e72",
   "metadata": {
    "execution": {
     "iopub.execute_input": "2023-02-07T02:41:01.827968Z",
     "iopub.status.busy": "2023-02-07T02:41:01.826400Z",
     "iopub.status.idle": "2023-02-07T02:41:01.910938Z",
     "shell.execute_reply": "2023-02-07T02:41:01.909864Z",
     "shell.execute_reply.started": "2023-02-07T02:41:01.827919Z"
    },
    "tags": []
   },
   "outputs": [
    {
     "data": {
      "text/html": [
       "<div>\n",
       "<style scoped>\n",
       "    .dataframe tbody tr th:only-of-type {\n",
       "        vertical-align: middle;\n",
       "    }\n",
       "\n",
       "    .dataframe tbody tr th {\n",
       "        vertical-align: top;\n",
       "    }\n",
       "\n",
       "    .dataframe thead th {\n",
       "        text-align: right;\n",
       "    }\n",
       "</style>\n",
       "<table border=\"1\" class=\"dataframe\">\n",
       "  <thead>\n",
       "    <tr style=\"text-align: right;\">\n",
       "      <th></th>\n",
       "    </tr>\n",
       "  </thead>\n",
       "  <tbody>\n",
       "  </tbody>\n",
       "</table>\n",
       "</div>"
      ],
      "text/plain": [
       "Empty DataFrame\n",
       "Columns: []\n",
       "Index: []"
      ]
     },
     "execution_count": 9,
     "metadata": {},
     "output_type": "execute_result"
    }
   ],
   "source": [
    "CREATE OR REPLACE TEMPORARY VIEW dns_report\n",
    "AS\n",
    "SELECT count(DISTINCT user) users, count(*) resolutions, CAST(date as Date) AS date\n",
    "FROM dns\n",
    "WHERE date >= date_add(current_date(), -3)\n",
    "GROUP BY date"
   ]
  },
  {
   "cell_type": "code",
   "execution_count": 10,
   "id": "6ab6d212-a506-4a03-9d41-61adfd3fcac7",
   "metadata": {
    "execution": {
     "iopub.execute_input": "2023-02-07T02:41:04.794741Z",
     "iopub.status.busy": "2023-02-07T02:41:04.793803Z",
     "iopub.status.idle": "2023-02-07T02:44:21.598272Z",
     "shell.execute_reply": "2023-02-07T02:44:21.595976Z",
     "shell.execute_reply.started": "2023-02-07T02:41:04.794690Z"
    },
    "tags": []
   },
   "outputs": [
    {
     "data": {
      "text/html": [
       "<div>\n",
       "<style scoped>\n",
       "    .dataframe tbody tr th:only-of-type {\n",
       "        vertical-align: middle;\n",
       "    }\n",
       "\n",
       "    .dataframe tbody tr th {\n",
       "        vertical-align: top;\n",
       "    }\n",
       "\n",
       "    .dataframe thead th {\n",
       "        text-align: right;\n",
       "    }\n",
       "</style>\n",
       "<table border=\"1\" class=\"dataframe\">\n",
       "  <thead>\n",
       "    <tr style=\"text-align: right;\">\n",
       "      <th></th>\n",
       "    </tr>\n",
       "  </thead>\n",
       "  <tbody>\n",
       "  </tbody>\n",
       "</table>\n",
       "</div>"
      ],
      "text/plain": [
       "Empty DataFrame\n",
       "Columns: []\n",
       "Index: []"
      ]
     },
     "execution_count": 10,
     "metadata": {},
     "output_type": "execute_result"
    }
   ],
   "source": [
    "INSERT OVERWRITE DIRECTORY \"s3a://test/temp/dir1\"\n",
    "USING parquet\n",
    "SELECT users, resolutions, CAST(date as Date) AS date FROM dns_history WHERE date < date_add(current_date(), - IF(\"${env:S3_ACCESS_KEY}\" IS NOT NULL, 3, 3))\n",
    "UNION ALL\n",
    "SELECT * FROM dns_report"
   ]
  },
  {
   "cell_type": "code",
   "execution_count": 11,
   "id": "ec332e5c-c43e-47cf-b7fc-203f9b448fb3",
   "metadata": {
    "execution": {
     "iopub.execute_input": "2023-02-07T02:44:33.437711Z",
     "iopub.status.busy": "2023-02-07T02:44:33.436236Z",
     "iopub.status.idle": "2023-02-07T02:44:34.519125Z",
     "shell.execute_reply": "2023-02-07T02:44:34.516859Z",
     "shell.execute_reply.started": "2023-02-07T02:44:33.437606Z"
    },
    "tags": []
   },
   "outputs": [
    {
     "data": {
      "text/html": [
       "<div>\n",
       "<style scoped>\n",
       "    .dataframe tbody tr th:only-of-type {\n",
       "        vertical-align: middle;\n",
       "    }\n",
       "\n",
       "    .dataframe tbody tr th {\n",
       "        vertical-align: top;\n",
       "    }\n",
       "\n",
       "    .dataframe thead th {\n",
       "        text-align: right;\n",
       "    }\n",
       "</style>\n",
       "<table border=\"1\" class=\"dataframe\">\n",
       "  <thead>\n",
       "    <tr style=\"text-align: right;\">\n",
       "      <th></th>\n",
       "    </tr>\n",
       "  </thead>\n",
       "  <tbody>\n",
       "  </tbody>\n",
       "</table>\n",
       "</div>"
      ],
      "text/plain": [
       "Empty DataFrame\n",
       "Columns: []\n",
       "Index: []"
      ]
     },
     "execution_count": 11,
     "metadata": {},
     "output_type": "execute_result"
    }
   ],
   "source": [
    "CREATE OR REPLACE TEMPORARY VIEW dir1\n",
    "USING org.apache.spark.sql.parquet\n",
    "OPTIONS (\n",
    "  path \"s3a://test/temp/dir1\"\n",
    ")"
   ]
  },
  {
   "cell_type": "code",
   "execution_count": 14,
   "id": "c1a9c421-ee5f-4132-985e-d1e1aa576969",
   "metadata": {
    "execution": {
     "iopub.execute_input": "2023-02-07T02:45:07.790259Z",
     "iopub.status.busy": "2023-02-07T02:45:07.789398Z",
     "iopub.status.idle": "2023-02-07T02:45:16.093605Z",
     "shell.execute_reply": "2023-02-07T02:45:16.092011Z",
     "shell.execute_reply.started": "2023-02-07T02:45:07.790218Z"
    },
    "tags": []
   },
   "outputs": [
    {
     "data": {
      "text/html": [
       "<div>\n",
       "<style scoped>\n",
       "    .dataframe tbody tr th:only-of-type {\n",
       "        vertical-align: middle;\n",
       "    }\n",
       "\n",
       "    .dataframe tbody tr th {\n",
       "        vertical-align: top;\n",
       "    }\n",
       "\n",
       "    .dataframe thead th {\n",
       "        text-align: right;\n",
       "    }\n",
       "</style>\n",
       "<table border=\"1\" class=\"dataframe\">\n",
       "  <thead>\n",
       "    <tr style=\"text-align: right;\">\n",
       "      <th></th>\n",
       "    </tr>\n",
       "  </thead>\n",
       "  <tbody>\n",
       "  </tbody>\n",
       "</table>\n",
       "</div>"
      ],
      "text/plain": [
       "Empty DataFrame\n",
       "Columns: []\n",
       "Index: []"
      ]
     },
     "execution_count": 14,
     "metadata": {},
     "output_type": "execute_result"
    }
   ],
   "source": [
    "INSERT OVERWRITE DIRECTORY \"s3a://test/temp/dns_history/\"\n",
    "USING parquet\n",
    "SELECT * FROM dir1"
   ]
  },
  {
   "cell_type": "code",
   "execution_count": null,
   "id": "443f54e0-d63b-4927-bc2f-f2061ccb52d1",
   "metadata": {},
   "outputs": [],
   "source": []
  }
 ],
 "metadata": {
  "kernelspec": {
   "display_name": "SparkSQL M cluster",
   "language": "",
   "name": "sparksql-m"
  },
  "language_info": {
   "codemirror_mode": {
    "name": "ipython",
    "version": 3
   },
   "file_extension": ".py",
   "mimetype": "text/x-python",
   "name": "python",
   "nbconvert_exporter": "python",
   "pygments_lexer": "ipython3",
   "version": "3.10.8"
  },
  "toc-autonumbering": false,
  "toc-showcode": true,
  "toc-showmarkdowntxt": false,
  "toc-showtags": false
 },
 "nbformat": 4,
 "nbformat_minor": 5
}
